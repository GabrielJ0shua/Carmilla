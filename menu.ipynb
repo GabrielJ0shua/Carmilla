{
 "cells": [
  {
   "cell_type": "markdown",
   "id": "a43f053d",
   "metadata": {},
   "source": [
    "# Data Base\n",
    "## Funçoes para o Banco de Dados"
   ]
  },
  {
   "cell_type": "code",
   "execution_count": 1,
   "id": "09ff70c8",
   "metadata": {},
   "outputs": [
    {
     "name": "stdout",
     "output_type": "stream",
     "text": [
      "Collecting mysql-connector-python\n",
      "  Downloading mysql_connector_python-8.0.30-cp39-cp39-win_amd64.whl (7.8 MB)\n",
      "Requirement already satisfied: protobuf<=3.20.1,>=3.11.0 in c:\\users\\joshua\\anaconda3\\lib\\site-packages (from mysql-connector-python) (3.19.1)\n",
      "Installing collected packages: mysql-connector-python\n",
      "Successfully installed mysql-connector-python-8.0.30\n"
     ]
    }
   ],
   "source": [
    "#!pip install mysql-connector-python"
   ]
  },
  {
   "cell_type": "code",
   "execution_count": 1,
   "id": "fa7667b4",
   "metadata": {},
   "outputs": [],
   "source": [
    "import mysql.connector"
   ]
  },
  {
   "cell_type": "code",
   "execution_count": 2,
   "id": "bceeb49c",
   "metadata": {},
   "outputs": [],
   "source": [
    "mydb = mysql.connector.connect(\n",
    "  host=\"localhost\",\n",
    "  user=\"root\",\n",
    "  password=\"tobi\",\n",
    "  database=\"concursos\"\n",
    ")\n",
    "\n",
    "mycursor = mydb.cursor()"
   ]
  },
  {
   "cell_type": "code",
   "execution_count": 3,
   "id": "21a592d1",
   "metadata": {},
   "outputs": [
    {
     "name": "stdout",
     "output_type": "stream",
     "text": [
      "('apostas',)\n",
      "('ciclo',)\n",
      "('concurso',)\n"
     ]
    }
   ],
   "source": [
    "mycursor.execute(\"SHOW TABLES\")\n",
    "\n",
    "for x in mycursor:\n",
    "  print(x)"
   ]
  },
  {
   "cell_type": "code",
   "execution_count": 8,
   "id": "91bd238a",
   "metadata": {},
   "outputs": [],
   "source": [
    "\n",
    "def inserirApostas(valor):\n",
    "    sql = \"INSERT INTO apostas (numeros) VALUES (%s)\"\n",
    "    mycursor.executemany(sql, valor)\n",
    "    mydb.commit()\n",
    "    return(mycursor.rowcount, \"record inserted.\")\n",
    "\n",
    "def inserirConcursos(valor):\n",
    "    sql = \"INSERT INTO  concursos.concurso (idconcurso, numeros) VALUES (%i, %s)\"\n",
    "    mycursor.executemany(sql, valor)\n",
    "    mydb.commit()\n",
    "    return(mycursor.rowcount, \"record inserted.\")\n",
    "\n",
    "def inserirCiclo(valor):\n",
    "    sql = \"INSERT INTO concursos.ciclo (idconcurso, fim, num_faltante) VALUES (%i, %s)\"\n",
    "    mycursor.executemany(sql, valor)\n",
    "    mydb.commit()\n",
    "    return(mycursor.rowcount, \"record inserted.\")\n",
    "\n",
    "def atualizar(*valor):\n",
    "    pass\n",
    "\n",
    "def remover(*valor):\n",
    "    pass\n",
    "\n",
    "def consultarConcurso():\n",
    "    mycursor.execute(\"SELECT * FROM concursos.concurso\")\n",
    "    return mycursor.fetchall()\n",
    "\n",
    "def consultarApostas():\n",
    "    mycursor.execute(\"SELECT * FROM concursos.apostas\")\n",
    "    return mycursor.fetchall()\n",
    "\n",
    "def verificaCiclo(*valor):\n",
    "    pass\n"
   ]
  },
  {
   "cell_type": "code",
   "execution_count": 5,
   "id": "266f79cc",
   "metadata": {},
   "outputs": [
    {
     "name": "stdout",
     "output_type": "stream",
     "text": [
      "(3, 'record inserted.')\n"
     ]
    }
   ],
   "source": [
    "valor = [['1,2,3,4'], ['2,3,5,7'], ['22,23,24,25']]\n",
    "\n",
    "res = inserirApostas(valor)\n",
    "print(res)"
   ]
  },
  {
   "cell_type": "code",
   "execution_count": 9,
   "id": "29143cb9",
   "metadata": {},
   "outputs": [
    {
     "name": "stdout",
     "output_type": "stream",
     "text": [
      "[(1, '1,2,3,4'), (2, '11,2,38,4'), (3, '15,20,3,4'), (4, '19,2,3,47')]\n",
      "\n",
      "\n",
      "\n",
      "___________\n",
      "\n",
      "\n",
      "\n",
      "[(1, '1,2,3,4'), (2, '11,2,38,4'), (3, '15,20,3,4'), (4, '19,2,3,47')]\n"
     ]
    }
   ],
   "source": [
    "res1 = consultarConcurso()\n",
    "res2 = consultarApostas()\n",
    "print(res1)\n",
    "print(\"\\n\\n\\n___________\\n\\n\\n\")\n",
    "print(res2)"
   ]
  },
  {
   "cell_type": "markdown",
   "id": "684cda73",
   "metadata": {},
   "source": [
    "# ETL"
   ]
  },
  {
   "cell_type": "code",
   "execution_count": null,
   "id": "ccc0e051",
   "metadata": {},
   "outputs": [],
   "source": [
    "import csv, pandas as pd"
   ]
  },
  {
   "cell_type": "code",
   "execution_count": null,
   "id": "93c92799",
   "metadata": {},
   "outputs": [],
   "source": [
    "def transformacao(*valor):\n",
    "    pass\n",
    "\n",
    "def consulta(*valor):\n",
    "    pass\n",
    "\n",
    "def deparaConcursos(*valor):\n",
    "    pass\n"
   ]
  },
  {
   "cell_type": "markdown",
   "id": "5d371561",
   "metadata": {},
   "source": [
    "# Engineering"
   ]
  },
  {
   "cell_type": "code",
   "execution_count": null,
   "id": "e7f9f2de",
   "metadata": {},
   "outputs": [],
   "source": [
    "import numpy"
   ]
  },
  {
   "cell_type": "code",
   "execution_count": null,
   "id": "ca3faba7",
   "metadata": {},
   "outputs": [],
   "source": [
    "def gerarNumeros(*valor):\n",
    "    pass\n",
    "\n",
    "def gerarEstatistica(*valor):\n",
    "    pass\n",
    "\n",
    "def calcularCiclo(*valor):\n",
    "    pass\n",
    "\n",
    "def deparaCiclo(*valor):\n",
    "    pass\n"
   ]
  },
  {
   "cell_type": "markdown",
   "id": "702c7bbe",
   "metadata": {},
   "source": [
    "# Menu"
   ]
  },
  {
   "cell_type": "code",
   "execution_count": null,
   "id": "b606de53",
   "metadata": {},
   "outputs": [],
   "source": [
    "#-- coding utf-8 --\n",
    "while(True):\n",
    "    opc = input(\"\\n1 - Gerar números \\n2 - Inserir concurso \\n3 - Atualizar concurso \\n4 - Apagar concurso \\n5 - Sair\\n\")\n",
    "    \n",
    "    if(opc == 5): \n",
    "exit()"
   ]
  },
  {
   "cell_type": "code",
   "execution_count": 4,
   "id": "8ea1ffb2",
   "metadata": {},
   "outputs": [],
   "source": [
    "opc = 0"
   ]
  }
 ],
 "metadata": {
  "kernelspec": {
   "display_name": "Python 3 (ipykernel)",
   "language": "python",
   "name": "python3"
  },
  "language_info": {
   "codemirror_mode": {
    "name": "ipython",
    "version": 3
   },
   "file_extension": ".py",
   "mimetype": "text/x-python",
   "name": "python",
   "nbconvert_exporter": "python",
   "pygments_lexer": "ipython3",
   "version": "3.9.12"
  }
 },
 "nbformat": 4,
 "nbformat_minor": 5
}
