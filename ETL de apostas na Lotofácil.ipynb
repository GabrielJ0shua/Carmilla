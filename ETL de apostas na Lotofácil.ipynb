{
 "cells": [
  {
   "cell_type": "code",
   "execution_count": 1,
   "id": "0d54b68d",
   "metadata": {},
   "outputs": [],
   "source": [
    "import pandas as pd\n",
    "import random\n",
    "\n",
    "df = pd.read_excel('loto.xlsx')#https://asloterias.com.br/download-todos-resultados-lotofacil\n",
    "\n",
    "def transformacao(df: pd)  -> list[list]:\n",
    "    aux = [\"bola 1\", \"bola 2\",\"bola 3\",\"bola 4\",\"bola 5\",\"bola 6\",\"bola 7\",\"bola 8\",\"bola 9\",\"bola 10\",\"bola 11\",\"bola 12\",\"bola 13\",\"bola 14\",\"bola 15\"]\n",
    "\n",
    "    lista, sorteio = [], []\n",
    "    \n",
    "    for j in range(0,len(df[0:])):\n",
    "        for i in aux: lista.append(df[i][j])\n",
    "\n",
    "        lista = sorted(lista)\n",
    "        sorteio.append(lista)\n",
    "        lista = []\n",
    "    return sorteio\n",
    "\n",
    " # valores\n",
    "#[[1, 2, 3, 4, 8, 9, 10, 11, 13, 15, 19, 20, 23, 24, 25], [2, 3, 4, 7, 8, 10, 11, 12, 13, 19, 20, 21, 22, 23, 24], [3, 6, 7, 8, 9, 11, 12, 13, 15, 16, 18, 19, 20, 21, 25], [1, 4, 5, 6, 7, 8, 9, 10, 11, 12, 17, 18, 23, 24, 25]...]\n",
    "\n",
    "\n",
    "def equi_par_impar(lista:list) -> bool:\n",
    "    p, i = 0, 0\n",
    "    for j in lista:\n",
    "        if(j % 2 == 0): p += 1 \n",
    "        else: i += 1\n",
    "    if((p == 8 and i == 7) or (p == 6 and i == 9) or (p == 7 and i == 8)): return True\n",
    "    else: return False\n",
    "\n",
    "#quantidade de impares e pares\n",
    "    #40% tiveram 8 pares e 7 ímpares.\n",
    "    #40% tiveram 6 pares e 9 ímpares.\n",
    "    #20% tiveram 7 pares e 8 ímpares.\n",
    "\n",
    "\n",
    "def sort_num_apost(valores: list, transf: list[bool,list]) -> list:\n",
    "    response = []\n",
    "    num_sort = range(1,25)\n",
    "    estaNoCiclo = True\n",
    "    \n",
    "    while(True):\n",
    "        response = random.sample(num_sort,15)\n",
    "        \n",
    "        if(not(response in valores)):\n",
    "            \n",
    "            if(equi_par_impar(response)):\n",
    "                \n",
    "                if(not(transf[0])): return(response)\n",
    "                    \n",
    "                else:\n",
    "                    for i in transf[1]:\n",
    "                        if(not(i in response)): estaNoCiclo = False\n",
    "\n",
    "                    if(estaNoCiclo): break\n",
    "    return(response)\n",
    "#valores = transformacao(df)\n",
    "#teste = sort_num_apost(valores)\n",
    "#teste\n",
    "#[22, 1, 16, 5, 15, 19, 24, 13, 6, 2, 8, 10, 21, 4, 9]\n",
    "\n",
    "def transformacaoComConcursos(df: pd) -> list[dict]:\n",
    "    aux = [\"Concurso\", \"bola 1\", \"bola 2\",\"bola 3\",\"bola 4\",\"bola 5\",\"bola 6\",\"bola 7\",\"bola 8\",\"bola 9\",\"bola 10\",\"bola 11\",\"bola 12\",\"bola 13\",\"bola 14\",\"bola 15\"]\n",
    "    lista, sorteio = [], []\n",
    "    dicio = {}\n",
    "    \n",
    "    for j in range(0,len(df[0:])):\n",
    "        for i in aux: \n",
    "            lista.append(df[i][j])\n",
    "        dicio = {\"Concurso\" : lista[0], \"sorteio\" : sorted(lista[1:])}\n",
    "        sorteio.append(dicio)\n",
    "        lista = []\n",
    "        dicio = {}\n",
    "\n",
    "    return sorteio\n",
    "#[{'Concurso': 2703,\n",
    "#  'sorteio': [1, 2, 5, 7, 9, 10, 12, 13, 14, 17, 19, 20, 21, 23, 24]},\n",
    "# {'Concurso': 2702,\n",
    "#  'sorteio': [1, 2, 4, 6, 7, 10, 14, 15, 16, 17, 18, 19, 21, 23, 25]},\n",
    "# {'Concurso': 2701,\n",
    "#  'sorteio': [1, 3, 4, 5, 7, 9, 12, 14, 16, 18, 19, 21, 22, 23, 25]},...]\n",
    "\n",
    "def calculoDeCiclo(df: pd) -> list[bool,list]:\n",
    "    trans = transformacaoComConcursos(df)\n",
    "    ciclo, aux = [i for i in range(1, 26)], []\n",
    "    control = False # imagine que o ciclo seja vazio([]), significa que não há elementos que podem ser os \"favoritos\" para os próximos concursos, ou seja o ciclo voltou a ser renovado. Então seto Falso para que seja falso a ideia de que tenha números que sejam favoritos.\n",
    "\n",
    "    for i in trans[::-1]:\n",
    "        if (ciclo == []): \n",
    "            ciclo = [i for i in range(1, 26)] # se o ciclo for vazio é porque precisa ser sorteado tudo novamente\n",
    "            control = False\n",
    "        else: control = True\n",
    "\n",
    "        for j in i[\"sorteio\"]:\n",
    "            if(j in ciclo):\n",
    "                ciclo.remove(j)\n",
    "\n",
    "    return [control, ciclo]\n",
    "\n",
    "#[3, 8, 11, 22]\n",
    "#True\n",
    "# A ideia é que se for verdade, os jogos gerados tem que conter esses números\n",
    "\n",
    "def main():\n",
    "    valores = transformacao(df)\n",
    "    transf = calculoDeCiclo(df)\n",
    "    a = 0\n",
    "    aux = []\n",
    "    while(True):\n",
    "        a = int(input(\"Quantas apostas quer fazer?\\n\"))\n",
    "        print(\"\\n\")\n",
    "        for i in range(a):\n",
    "            aux = sort_num_apost(valores, transf)\n",
    "            \n",
    "            print(sorted(aux))\n",
    "            print(\"\\n\")\n",
    "        break"
   ]
  },
  {
   "cell_type": "code",
   "execution_count": 2,
   "id": "7a998886",
   "metadata": {},
   "outputs": [
    {
     "name": "stdout",
     "output_type": "stream",
     "text": [
      "Quantas apostas quer fazer?\n",
      "1\n",
      "\n",
      "\n"
     ]
    },
    {
     "ename": "KeyboardInterrupt",
     "evalue": "",
     "output_type": "error",
     "traceback": [
      "\u001b[1;31m---------------------------------------------------------------------------\u001b[0m",
      "\u001b[1;31mKeyboardInterrupt\u001b[0m                         Traceback (most recent call last)",
      "Input \u001b[1;32mIn [2]\u001b[0m, in \u001b[0;36m<cell line: 1>\u001b[1;34m()\u001b[0m\n\u001b[0;32m      1\u001b[0m \u001b[38;5;28;01mif\u001b[39;00m \u001b[38;5;18m__name__\u001b[39m \u001b[38;5;241m==\u001b[39m \u001b[38;5;124m\"\u001b[39m\u001b[38;5;124m__main__\u001b[39m\u001b[38;5;124m\"\u001b[39m:\n\u001b[1;32m----> 2\u001b[0m     \u001b[43mmain\u001b[49m\u001b[43m(\u001b[49m\u001b[43m)\u001b[49m\n",
      "Input \u001b[1;32mIn [1]\u001b[0m, in \u001b[0;36mmain\u001b[1;34m()\u001b[0m\n\u001b[0;32m    111\u001b[0m \u001b[38;5;28mprint\u001b[39m(\u001b[38;5;124m\"\u001b[39m\u001b[38;5;130;01m\\n\u001b[39;00m\u001b[38;5;124m\"\u001b[39m)\n\u001b[0;32m    112\u001b[0m \u001b[38;5;28;01mfor\u001b[39;00m i \u001b[38;5;129;01min\u001b[39;00m \u001b[38;5;28mrange\u001b[39m(a):\n\u001b[1;32m--> 113\u001b[0m     aux \u001b[38;5;241m=\u001b[39m \u001b[43msort_num_apost\u001b[49m\u001b[43m(\u001b[49m\u001b[43mvalores\u001b[49m\u001b[43m,\u001b[49m\u001b[43m \u001b[49m\u001b[43mtransf\u001b[49m\u001b[43m)\u001b[49m\n\u001b[0;32m    115\u001b[0m     \u001b[38;5;28mprint\u001b[39m(\u001b[38;5;28msorted\u001b[39m(aux))\n\u001b[0;32m    116\u001b[0m     \u001b[38;5;28mprint\u001b[39m(\u001b[38;5;124m\"\u001b[39m\u001b[38;5;130;01m\\n\u001b[39;00m\u001b[38;5;124m\"\u001b[39m)\n",
      "Input \u001b[1;32mIn [1]\u001b[0m, in \u001b[0;36msort_num_apost\u001b[1;34m(valores, transf)\u001b[0m\n\u001b[0;32m     40\u001b[0m estaNoCiclo \u001b[38;5;241m=\u001b[39m \u001b[38;5;28;01mTrue\u001b[39;00m\n\u001b[0;32m     42\u001b[0m \u001b[38;5;28;01mwhile\u001b[39;00m(\u001b[38;5;28;01mTrue\u001b[39;00m):\n\u001b[1;32m---> 43\u001b[0m     response \u001b[38;5;241m=\u001b[39m \u001b[43mrandom\u001b[49m\u001b[38;5;241;43m.\u001b[39;49m\u001b[43msample\u001b[49m\u001b[43m(\u001b[49m\u001b[43mnum_sort\u001b[49m\u001b[43m,\u001b[49m\u001b[38;5;241;43m15\u001b[39;49m\u001b[43m)\u001b[49m\n\u001b[0;32m     45\u001b[0m     \u001b[38;5;28;01mif\u001b[39;00m(\u001b[38;5;129;01mnot\u001b[39;00m(response \u001b[38;5;129;01min\u001b[39;00m valores)):\n\u001b[0;32m     47\u001b[0m         \u001b[38;5;28;01mif\u001b[39;00m(equi_par_impar(response)):\n",
      "File \u001b[1;32m~\\anaconda3\\lib\\random.py:432\u001b[0m, in \u001b[0;36mRandom.sample\u001b[1;34m(self, population, k, counts)\u001b[0m\n\u001b[0;32m    428\u001b[0m     _warn(\u001b[38;5;124m'\u001b[39m\u001b[38;5;124mSampling from a set deprecated\u001b[39m\u001b[38;5;130;01m\\n\u001b[39;00m\u001b[38;5;124m'\u001b[39m\n\u001b[0;32m    429\u001b[0m           \u001b[38;5;124m'\u001b[39m\u001b[38;5;124msince Python 3.9 and will be removed in a subsequent version.\u001b[39m\u001b[38;5;124m'\u001b[39m,\n\u001b[0;32m    430\u001b[0m           \u001b[38;5;167;01mDeprecationWarning\u001b[39;00m, \u001b[38;5;241m2\u001b[39m)\n\u001b[0;32m    431\u001b[0m     population \u001b[38;5;241m=\u001b[39m \u001b[38;5;28mtuple\u001b[39m(population)\n\u001b[1;32m--> 432\u001b[0m \u001b[38;5;28;01mif\u001b[39;00m \u001b[38;5;129;01mnot\u001b[39;00m \u001b[38;5;28;43misinstance\u001b[39;49m\u001b[43m(\u001b[49m\u001b[43mpopulation\u001b[49m\u001b[43m,\u001b[49m\u001b[43m \u001b[49m\u001b[43m_Sequence\u001b[49m\u001b[43m)\u001b[49m:\n\u001b[0;32m    433\u001b[0m     \u001b[38;5;28;01mraise\u001b[39;00m \u001b[38;5;167;01mTypeError\u001b[39;00m(\u001b[38;5;124m\"\u001b[39m\u001b[38;5;124mPopulation must be a sequence.  For dicts or sets, use sorted(d).\u001b[39m\u001b[38;5;124m\"\u001b[39m)\n\u001b[0;32m    434\u001b[0m n \u001b[38;5;241m=\u001b[39m \u001b[38;5;28mlen\u001b[39m(population)\n",
      "File \u001b[1;32m~\\anaconda3\\lib\\abc.py:119\u001b[0m, in \u001b[0;36mABCMeta.__instancecheck__\u001b[1;34m(cls, instance)\u001b[0m\n\u001b[0;32m    117\u001b[0m \u001b[38;5;28;01mdef\u001b[39;00m \u001b[38;5;21m__instancecheck__\u001b[39m(\u001b[38;5;28mcls\u001b[39m, instance):\n\u001b[0;32m    118\u001b[0m     \u001b[38;5;124;03m\"\"\"Override for isinstance(instance, cls).\"\"\"\u001b[39;00m\n\u001b[1;32m--> 119\u001b[0m     \u001b[38;5;28;01mreturn\u001b[39;00m \u001b[43m_abc_instancecheck\u001b[49m(\u001b[38;5;28mcls\u001b[39m, instance)\n",
      "\u001b[1;31mKeyboardInterrupt\u001b[0m: "
     ]
    }
   ],
   "source": [
    "if __name__ == \"__main__\":\n",
    "    main()"
   ]
  },
  {
   "cell_type": "markdown",
   "id": "77282a30",
   "metadata": {},
   "source": [
    "# features futuras\n",
    "\n",
    "\n",
    "- otimização de calculo(está muito lento para gerar os números)\n",
    "\n",
    "Outros métodos serão inseridos sutilmente pois necessariamente precisa manter a aleatoriedade.\n"
   ]
  },
  {
   "cell_type": "code",
   "execution_count": 4,
   "id": "4ec0f10e",
   "metadata": {},
   "outputs": [
    {
     "data": {
      "text/plain": [
       "[11, 3, 8]"
      ]
     },
     "execution_count": 4,
     "metadata": {},
     "output_type": "execute_result"
    }
   ],
   "source": [
    "t = random.sample([3, 8, 11, 22],3)\n",
    "t"
   ]
  }
 ],
 "metadata": {
  "kernelspec": {
   "display_name": "Python 3 (ipykernel)",
   "language": "python",
   "name": "python3"
  },
  "language_info": {
   "codemirror_mode": {
    "name": "ipython",
    "version": 3
   },
   "file_extension": ".py",
   "mimetype": "text/x-python",
   "name": "python",
   "nbconvert_exporter": "python",
   "pygments_lexer": "ipython3",
   "version": "3.9.12"
  }
 },
 "nbformat": 4,
 "nbformat_minor": 5
}
